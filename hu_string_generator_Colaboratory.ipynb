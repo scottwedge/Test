{
  "nbformat": 4,
  "nbformat_minor": 0,
  "metadata": {
    "colab": {
      "name": "Copy of Welcome To Colaboratory",
      "provenance": [],
      "collapsed_sections": [
        "NM3WcHVOtn94"
      ],
      "include_colab_link": true
    },
    "kernelspec": {
      "display_name": "Python 3",
      "name": "python3"
    }
  },
  "cells": [
    {
      "cell_type": "markdown",
      "metadata": {
        "id": "view-in-github",
        "colab_type": "text"
      },
      "source": [
        "<a href=\"https://colab.research.google.com/github/ravana69/PornHub/blob/master/hu_string_generator_Colaboratory.ipynb\" target=\"_parent\"><img src=\"https://colab.research.google.com/assets/colab-badge.svg\" alt=\"Open In Colab\"/></a>"
      ]
    },
    {
      "cell_type": "markdown",
      "metadata": {
        "id": "138hwFzft9D7",
        "colab_type": "text"
      },
      "source": [
        "# 💎Powered By Pornhub Userbot💎"
      ]
    },
    {
      "cell_type": "markdown",
      "metadata": {
        "id": "NM3WcHVOtn94",
        "colab_type": "text"
      },
      "source": [
        "# 👇Run Bottom Module To Clear All Database From Colab👇"
      ]
    },
    {
      "cell_type": "code",
      "metadata": {
        "id": "v1gsYl4Wq_Jr",
        "colab_type": "code",
        "colab": {}
      },
      "source": [
        "rm -rf pornhub"
      ],
      "execution_count": null,
      "outputs": []
    },
    {
      "cell_type": "markdown",
      "metadata": {
        "id": "iAEb6_wVtE69",
        "colab_type": "text"
      },
      "source": [
        "# 👇Run To Get HU String👇\n",
        " \n",
        "👁️Note:- Click the above module if already run before."
      ]
    },
    {
      "cell_type": "code",
      "metadata": {
        "id": "Gd2xAWbPprXs",
        "colab_type": "code",
        "colab": {}
      },
      "source": [
        "!apt install python git wget && apt-get install python3-venv && python3 -m venv venv && . ./venv/bin/activate && mkdir pornhub && cd pornhub && git clone https://github.com/ravana69/pornhub && cd pornhub && pip install telethon && pip install --upgrade pip && python3 GenerateStringSession.py && rm -rf pornhub"
      ],
      "execution_count": null,
      "outputs": []
    }
  ]
}